{
 "cells": [
  {
   "cell_type": "markdown",
   "id": "52c567b0",
   "metadata": {},
   "source": [
    "# <span style=\"color:pink\">Project part 2.4.0.2</span>\n",
    "\n",
    "<span style=\"color:pink\">**_Zofia Różańska, 280526_**</span>\n",
    "\n",
    "<span style=\"color:pink\">_Dataset: Estimation of Obesity Levels Based On Eating Habits and Physical Condition_</span>\n"
   ]
  },
  {
   "cell_type": "code",
   "execution_count": 1,
   "id": "dfd057ab",
   "metadata": {},
   "outputs": [],
   "source": [
    "import pandas as pd\n",
    "import numpy as np\n",
    "import matplotlib.pyplot as plt\n",
    "import time"
   ]
  },
  {
   "cell_type": "code",
   "execution_count": 2,
   "id": "fe43c204",
   "metadata": {},
   "outputs": [],
   "source": [
    "from sklearn.pipeline import Pipeline\n",
    "from sklearn.impute import SimpleImputer\n",
    "from sklearn.preprocessing import StandardScaler, OneHotEncoder, LabelEncoder\n",
    "from sklearn.compose import ColumnTransformer\n",
    "from sklearn.model_selection import train_test_split\n",
    "from sklearn.metrics import accuracy_score, classification_report, ConfusionMatrixDisplay, confusion_matrix"
   ]
  },
  {
   "cell_type": "code",
   "execution_count": 3,
   "id": "5edec943",
   "metadata": {},
   "outputs": [
    {
     "name": "stdout",
     "output_type": "stream",
     "text": [
      "   Gender   Age  Height  Weight family_history_with_overweight FAVC  FCVC  \\\n",
      "0  Female  21.0    1.62    64.0                            yes   no   2.0   \n",
      "1  Female  21.0    1.52    56.0                            yes   no   3.0   \n",
      "2    Male  23.0    1.80    77.0                            yes   no   2.0   \n",
      "3    Male  27.0    1.80    87.0                             no   no   3.0   \n",
      "4    Male  22.0    1.78    89.8                             no   no   2.0   \n",
      "\n",
      "   NCP       CAEC SMOKE  CH2O  SCC  FAF  TUE        CALC  \\\n",
      "0  3.0  Sometimes    no   2.0   no  0.0  1.0          no   \n",
      "1  3.0  Sometimes   yes   3.0  yes  3.0  0.0   Sometimes   \n",
      "2  3.0  Sometimes    no   2.0   no  2.0  1.0  Frequently   \n",
      "3  3.0  Sometimes    no   2.0   no  2.0  0.0  Frequently   \n",
      "4  1.0  Sometimes    no   2.0   no  0.0  0.0   Sometimes   \n",
      "\n",
      "                  MTRANS           NObeyesdad  \n",
      "0  Public_Transportation        Normal_Weight  \n",
      "1  Public_Transportation        Normal_Weight  \n",
      "2  Public_Transportation        Normal_Weight  \n",
      "3                Walking   Overweight_Level_I  \n",
      "4  Public_Transportation  Overweight_Level_II  \n"
     ]
    }
   ],
   "source": [
    "# Load the dataset\n",
    "dataset_url = 'https://raw.githubusercontent.com/zosia-r/msid/refs/heads/main/I/dataset.csv'\n",
    "data = pd.read_csv(dataset_url)\n",
    "\n",
    "# Display all columns and rows in the DataFrame\n",
    "pd.set_option('display.max_columns', None)\n",
    "pd.set_option('display.max_rows', None)\n",
    "\n",
    "print(data.head())"
   ]
  },
  {
   "cell_type": "markdown",
   "id": "5ea7fddc",
   "metadata": {},
   "source": [
    "## <span style=\"color:pink\">Logistic Regression</span>"
   ]
  },
  {
   "cell_type": "markdown",
   "id": "de64cc90",
   "metadata": {},
   "source": [
    "### <span style=\"color:pink\">Preprocessing</span>"
   ]
  },
  {
   "cell_type": "code",
   "execution_count": 4,
   "id": "f240986f",
   "metadata": {},
   "outputs": [],
   "source": [
    "# Separate features and target\n",
    "X = data.drop('NObeyesdad', axis=1)\n",
    "y = data['NObeyesdad']"
   ]
  },
  {
   "cell_type": "code",
   "execution_count": 5,
   "id": "478fdfae",
   "metadata": {},
   "outputs": [],
   "source": [
    "def preprocess(X):\n",
    "    # Identify categorical and numerical columns\n",
    "    categorical_cols = X.select_dtypes(include=['object']).columns.tolist()\n",
    "    numerical_cols = X.select_dtypes(include=['int64', 'float64']).columns.tolist()\n",
    "\n",
    "    # Define the preprocessing steps for numerical and categorical features\n",
    "    numerical_transformer = Pipeline(steps=[\n",
    "        ('imputer', SimpleImputer(strategy='mean')),\n",
    "        ('scaler', StandardScaler())\n",
    "    ])\n",
    "\n",
    "    categorical_transformer = Pipeline(steps=[\n",
    "        ('imputer', SimpleImputer(strategy='most_frequent')),\n",
    "        ('onehot', OneHotEncoder(handle_unknown='ignore'))\n",
    "    ])\n",
    "\n",
    "    # Combine preprocessing steps\n",
    "    preprocessor = ColumnTransformer(\n",
    "        transformers=[\n",
    "            ('num', numerical_transformer, numerical_cols),\n",
    "            ('cat', categorical_transformer, categorical_cols)\n",
    "        ]\n",
    "    )\n",
    "\n",
    "    return preprocessor"
   ]
  },
  {
   "cell_type": "code",
   "execution_count": 6,
   "id": "d0b18e94",
   "metadata": {},
   "outputs": [],
   "source": [
    "# Split data into trainig, validating and testing sets\n",
    "X_train, X_temp, y_train, y_temp = train_test_split(X, y, test_size=0.4, random_state=0)\n",
    "X_val, X_test, y_val, y_test = train_test_split(X_temp, y_temp, test_size=0.5, random_state=0)"
   ]
  },
  {
   "cell_type": "code",
   "execution_count": 7,
   "id": "1bdd79ca",
   "metadata": {},
   "outputs": [],
   "source": [
    "# Perform preprocessing on X\n",
    "preprocessor = preprocess(X)\n",
    "\n",
    "X_train = preprocessor.fit_transform(X_train)\n",
    "X_val = preprocessor.transform(X_val)\n",
    "X_test = preprocessor.transform(X_test)\n"
   ]
  },
  {
   "cell_type": "code",
   "execution_count": 8,
   "id": "d54ade4e",
   "metadata": {},
   "outputs": [],
   "source": [
    "# Encode the target variable\n",
    "le = LabelEncoder()\n",
    "y_train_encoded = le.fit_transform(y_train)\n",
    "y_val_encoded = le.transform(y_val)\n",
    "y_test_encoded = le.transform(y_test)"
   ]
  },
  {
   "cell_type": "code",
   "execution_count": 9,
   "id": "695d002f",
   "metadata": {},
   "outputs": [],
   "source": [
    "class LogisticRegressionOVR:\n",
    "    def __init__(self, lr=0.1, epochs=1000, batch_size=32):\n",
    "        self.lr = lr\n",
    "        self.epochs = epochs\n",
    "        self.batch_size = batch_size\n",
    "        self.classes_ = None\n",
    "        self.thetas_ = {}\n",
    "\n",
    "    def sigmoid(self, z):\n",
    "        ''' Sigmoid activation function for binary logistic regression '''\n",
    "\n",
    "        return 1 / (1 + np.exp(-z))\n",
    "\n",
    "    def cross_entropy_loss(self, y_true, y_pred):\n",
    "        ''' Cross-entropy loss to measure prediction error '''\n",
    "\n",
    "        eps = 1e-15\n",
    "        y_pred = np.clip(y_pred, eps, 1 - eps)\n",
    "        return -np.sum(y_true * np.log(y_pred)) / y_true.shape[0]\n",
    "\n",
    "    def _train_binary_classifier(self, X, y_binary, X_val, y_val_binary):\n",
    "        ''' Trains one binary logistic regression model for a given class.\n",
    "        y_binary is 1 for this class, 0 for all others. '''\n",
    "\n",
    "        m, n = X.shape\n",
    "        theta = np.zeros(n + 1)  # Initialize weights (including bias)\n",
    "        X_bias = np.hstack([np.ones((m, 1)), X])  # Add bias column (ones)\n",
    "\n",
    "        X_val_bias = np.hstack([np.ones((X_val.shape[0], 1)), X_val])  # Add bias column for validation\n",
    "\n",
    "        for epoch in range(self.epochs):\n",
    "            # Shuffle data for each epoch\n",
    "            indices = np.random.permutation(m)\n",
    "            X_shuffled = X_bias[indices]\n",
    "            y_shuffled = y_binary[indices]\n",
    "\n",
    "            for i in range(0, m, self.batch_size):\n",
    "                # Create a batch\n",
    "                X_batch = X_shuffled[i:i + self.batch_size]\n",
    "                y_batch = y_shuffled[i:i + self.batch_size]\n",
    "\n",
    "                predictions = self.sigmoid(X_batch @ theta)\n",
    "\n",
    "                # Compute error and gradient\n",
    "                error = predictions - y_batch\n",
    "                gradient = X_batch.T @ error / len(y_batch)\n",
    "\n",
    "                # Update weights\n",
    "                theta -= self.lr * gradient\n",
    "\n",
    "        # Validation stats\n",
    "        val_predictions = self.sigmoid(X_val_bias @ theta)\n",
    "        val_loss = self.cross_entropy_loss(y_val_binary, val_predictions)\n",
    "        val_acc = np.mean((val_predictions >= 0.5) == y_val_binary)\n",
    "        print(f\"Epoch {epoch + 1} | Cross-entropy loss: {val_loss:.3f} | Val Accuracy: {val_acc*100:.3f}%\")\n",
    "\n",
    "\n",
    "        return theta  # Return the learned weights for this class\n",
    "\n",
    "    def fit(self, X, y, X_val, y_val):\n",
    "        ''' Trains the model using One-vs-Rest (OvR) strategy.'''\n",
    "\n",
    "        start_time = time.time() # Start time for training\n",
    "        \n",
    "        self.classes_ = np.unique(y)\n",
    "        for cls in self.classes_:\n",
    "            # Create binary target: 1 if sample belongs to cls, else 0\n",
    "            y_binary = (y == cls).astype(int)\n",
    "            y_val_binary = (y_val == cls).astype(int)\n",
    "            theta = self._train_binary_classifier(X, y_binary, X_val, y_val_binary)\n",
    "            self.thetas_[cls] = theta\n",
    "\n",
    "        end_time = time.time()\n",
    "        total_training_time = end_time - start_time  # Time in seconds\n",
    "\n",
    "        print(f\"\\nTraining completed in {total_training_time:.2f} seconds.\")\n",
    "\n",
    "    def predict_proba(self, X):\n",
    "        ''' Predicts probabilities for each class.\n",
    "        Returns shape: (num_samples, num_classes) '''\n",
    "\n",
    "        m = X.shape[0]\n",
    "        X_bias = np.hstack([np.ones((m, 1)), X])  # Add bias term\n",
    "        probs = np.zeros((m, len(self.classes_)))\n",
    "\n",
    "        for idx, cls in enumerate(self.classes_):\n",
    "            theta = self.thetas_[cls]\n",
    "            probs[:, idx] = self.sigmoid(X_bias @ theta)  # Compute class probability\n",
    "\n",
    "        return probs\n",
    "\n",
    "    def predict(self, X):\n",
    "        ''' Predict the class with the highest probability. '''\n",
    "    \n",
    "        probs = self.predict_proba(X)\n",
    "        return self.classes_[np.argmax(probs, axis=1)]\n"
   ]
  },
  {
   "cell_type": "code",
   "execution_count": 10,
   "id": "ac6ef203",
   "metadata": {},
   "outputs": [
    {
     "name": "stdout",
     "output_type": "stream",
     "text": [
      "Epoch 1000 | Cross-entropy loss: 0.036 | Val Accuracy: 99.052%\n",
      "Epoch 1000 | Cross-entropy loss: 0.138 | Val Accuracy: 86.256%\n",
      "Epoch 1000 | Cross-entropy loss: 0.190 | Val Accuracy: 86.967%\n",
      "Epoch 1000 | Cross-entropy loss: 0.030 | Val Accuracy: 99.289%\n",
      "Epoch 1000 | Cross-entropy loss: 0.003 | Val Accuracy: 100.000%\n",
      "Epoch 1000 | Cross-entropy loss: 0.211 | Val Accuracy: 86.730%\n",
      "Epoch 1000 | Cross-entropy loss: 0.229 | Val Accuracy: 85.071%\n",
      "\n",
      "Training completed in 3.75 seconds.\n"
     ]
    }
   ],
   "source": [
    "# Train the model\n",
    "clf = LogisticRegressionOVR(lr=0.01, epochs=1000, batch_size=32)\n",
    "clf.fit(X_train, y_train_encoded, X_val, y_val_encoded)"
   ]
  },
  {
   "cell_type": "code",
   "execution_count": 11,
   "id": "56393b17",
   "metadata": {},
   "outputs": [
    {
     "name": "stdout",
     "output_type": "stream",
     "text": [
      "Cross-entropy loss: 1.061\n",
      "Accuracy: 76.832%\n",
      "Classification report:\n",
      "                      precision    recall  f1-score   support\n",
      "\n",
      "Insufficient_Weight       0.80      0.95      0.87        55\n",
      "      Normal_Weight       0.63      0.44      0.52        55\n",
      "     Obesity_Type_I       0.68      0.74      0.71        69\n",
      "    Obesity_Type_II       0.86      1.00      0.92        66\n",
      "   Obesity_Type_III       0.96      1.00      0.98        68\n",
      " Overweight_Level_I       0.70      0.67      0.69        55\n",
      "Overweight_Level_II       0.61      0.49      0.55        55\n",
      "\n",
      "           accuracy                           0.77       423\n",
      "          macro avg       0.75      0.75      0.75       423\n",
      "       weighted avg       0.76      0.77      0.76       423\n",
      "\n"
     ]
    },
    {
     "data": {
      "image/png": "[encoded data removed]",
      "text/plain": [
       "<Figure size 640x480 with 2 Axes>"
      ]
     },
     "metadata": {},
     "output_type": "display_data"
    }
   ],
   "source": [
    "# Evaluate the model\n",
    "y_pred = clf.predict(X_test)\n",
    "\n",
    "# Decode the predictions back to original labels\n",
    "y_pred_labels = le.inverse_transform(y_pred)\n",
    "\n",
    "# Get encoded labels for test data\n",
    "y_test_encoded = le.transform(y_test)\n",
    "\n",
    "print(f'Cross-entropy loss: {clf.cross_entropy_loss(y_test_encoded, y_pred):.3f}')\n",
    "print(f'Accuracy: {accuracy_score(y_test_encoded, y_pred)*100:.3f}%')\n",
    "print('Classification report:\\n', classification_report(y_test, y_pred_labels))\n",
    "\n",
    "\n",
    "# Display confusion matrix\n",
    "cm = confusion_matrix(y_test, y_pred_labels)\n",
    "disp = ConfusionMatrixDisplay(confusion_matrix=cm, display_labels=le.classes_)\n",
    "disp.plot(xticks_rotation=90, cmap=plt.cm.Purples)\n",
    "plt.title(\"Confusion Matrix - Logistic Regression OVR from scratch\")\n",
    "plt.show()"
   ]
  },
  {
   "cell_type": "code",
   "execution_count": 12,
   "id": "b9445c43",
   "metadata": {},
   "outputs": [
    {
     "name": "stdout",
     "output_type": "stream",
     "text": [
      "Cross-entropy loss on training data: 0.709\n",
      "Accuracy on training data: 76.619%\n"
     ]
    }
   ],
   "source": [
    "# Evaluate the model on training data\n",
    "y_train_pred = clf.predict(X_train)\n",
    "\n",
    "# Decode the predictions back to original labels\n",
    "y_train_pred_labels = le.inverse_transform(y_train_pred)\n",
    "\n",
    "# Get encoded labels for training data\n",
    "y_train_encoded = le.transform(y_train)\n",
    "\n",
    "print(f'Cross-entropy loss on training data: {clf.cross_entropy_loss(y_train_encoded, y_train_pred):.3f}')\n",
    "print(f'Accuracy on training data: {accuracy_score(y_train_encoded, y_train_pred)*100:.3f}%')"
   ]
  },
  {
   "cell_type": "markdown",
   "id": "4214b754",
   "metadata": {},
   "source": [
    "# <span style=\"color:pink\">Project part III</span>"
   ]
  },
  {
   "cell_type": "markdown",
   "id": "983ffc6e",
   "metadata": {},
   "source": [
    "## <span style=\"color:pink\">Cross validation</span>"
   ]
  },
  {
   "cell_type": "code",
   "execution_count": 13,
   "id": "0bf569b6",
   "metadata": {},
   "outputs": [
    {
     "name": "stdout",
     "output_type": "stream",
     "text": [
      "Epoch 1000 | Cross-entropy loss: 0.027 | Val Accuracy: 98.864%\n",
      "Epoch 1000 | Cross-entropy loss: 0.162 | Val Accuracy: 87.216%\n",
      "Epoch 1000 | Cross-entropy loss: 0.211 | Val Accuracy: 87.074%\n",
      "Epoch 1000 | Cross-entropy loss: 0.031 | Val Accuracy: 99.290%\n",
      "Epoch 1000 | Cross-entropy loss: 0.004 | Val Accuracy: 100.000%\n",
      "Epoch 1000 | Cross-entropy loss: 0.235 | Val Accuracy: 86.790%\n",
      "Epoch 1000 | Cross-entropy loss: 0.201 | Val Accuracy: 86.080%\n",
      "\n",
      "Training completed in 3.99 seconds.\n",
      "Fold 1 accuracy: 0.7656\n",
      "Epoch 1000 | Cross-entropy loss: 0.025 | Val Accuracy: 98.580%\n",
      "Epoch 1000 | Cross-entropy loss: 0.171 | Val Accuracy: 86.648%\n",
      "Epoch 1000 | Cross-entropy loss: 0.230 | Val Accuracy: 86.222%\n",
      "Epoch 1000 | Cross-entropy loss: 0.033 | Val Accuracy: 98.438%\n",
      "Epoch 1000 | Cross-entropy loss: 0.004 | Val Accuracy: 100.000%\n",
      "Epoch 1000 | Cross-entropy loss: 0.214 | Val Accuracy: 86.222%\n",
      "Epoch 1000 | Cross-entropy loss: 0.204 | Val Accuracy: 86.222%\n",
      "\n",
      "Training completed in 3.99 seconds.\n",
      "Fold 2 accuracy: 0.7457\n",
      "Epoch 1000 | Cross-entropy loss: 0.031 | Val Accuracy: 98.862%\n",
      "Epoch 1000 | Cross-entropy loss: 0.170 | Val Accuracy: 86.629%\n",
      "Epoch 1000 | Cross-entropy loss: 0.219 | Val Accuracy: 85.633%\n",
      "Epoch 1000 | Cross-entropy loss: 0.052 | Val Accuracy: 98.151%\n",
      "Epoch 1000 | Cross-entropy loss: 0.004 | Val Accuracy: 99.858%\n",
      "Epoch 1000 | Cross-entropy loss: 0.200 | Val Accuracy: 87.909%\n",
      "Epoch 1000 | Cross-entropy loss: 0.221 | Val Accuracy: 86.629%\n",
      "\n",
      "Training completed in 4.65 seconds.\n",
      "Fold 3 accuracy: 0.7539\n",
      "Mean accuracy (cross-val): 75.50918143023405 %\n"
     ]
    }
   ],
   "source": [
    "from sklearn.model_selection import StratifiedKFold\n",
    "\n",
    "kf = StratifiedKFold(n_splits=3, shuffle=True, random_state=42)\n",
    "accuracies = []\n",
    "\n",
    "y = le.transform(y)  # Encode the target variable for cross-validation\n",
    "X = preprocessor.transform(X)  # Preprocess the entire dataset\n",
    "\n",
    "for fold, (train_idx, val_idx) in enumerate(kf.split(X, y)):\n",
    "    # Split the data\n",
    "    X_train_fold, X_val_fold = X[train_idx], X[val_idx]\n",
    "    y_train_fold, y_val_fold = y[train_idx], y[val_idx]\n",
    "\n",
    "    # Train the model\n",
    "    clf_fold = LogisticRegressionOVR(lr=0.01, epochs=1000, batch_size=32)\n",
    "    clf_fold.fit(X_train_fold, y_train_fold, X_val_fold, y_val_fold)\n",
    "\n",
    "    # Predict\n",
    "    y_val_pred = clf_fold.predict(X_val_fold)\n",
    "    acc = accuracy_score(y_val_fold, y_val_pred)\n",
    "    accuracies.append(acc)\n",
    "    print(f'Fold {fold+1} accuracy: {acc:.4f}')\n",
    "\n",
    "# Mean accuracy\n",
    "print('-----')\n",
    "print('Mean accuracy (cross-val):', np.mean(accuracies)*100, '%')\n"
   ]
  }
 ],
 "metadata": {
  "kernelspec": {
   "display_name": "msid",
   "language": "python",
   "name": "python3"
  },
  "language_info": {
   "codemirror_mode": {
    "name": "ipython",
    "version": 3
   },
   "file_extension": ".py",
   "mimetype": "text/x-python",
   "name": "python",
   "nbconvert_exporter": "python",
   "pygments_lexer": "ipython3",
   "version": "3.13.2"
  }
 },
 "nbformat": 4,
 "nbformat_minor": 5
}
