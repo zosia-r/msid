{
 "cells": [
  {
   "cell_type": "markdown",
   "id": "3f89f2a9",
   "metadata": {},
   "source": [
    "# <span style=\"color:pink\">Projekt część 2.4.0.1</span>\n",
    "\n",
    "<span style=\"color:pink\">**_Zofia Różańska, 280526_**</span>\n",
    "\n",
    "<span style=\"color:pink\">_Dataset: Estimation of Obesity Levels Based On Eating Habits and Physical Condition_</span>\n"
   ]
  },
  {
   "cell_type": "code",
   "execution_count": 1,
   "id": "d9c524e8",
   "metadata": {},
   "outputs": [],
   "source": [
    "import pandas as pd\n",
    "import numpy as np"
   ]
  },
  {
   "cell_type": "code",
   "execution_count": 2,
   "id": "2acdb0fb",
   "metadata": {},
   "outputs": [],
   "source": [
    "from sklearn.pipeline import Pipeline\n",
    "from sklearn.impute import SimpleImputer\n",
    "from sklearn.preprocessing import StandardScaler, OneHotEncoder\n",
    "from sklearn.compose import ColumnTransformer\n",
    "from sklearn.model_selection import train_test_split\n",
    "from sklearn.metrics import mean_squared_error"
   ]
  },
  {
   "cell_type": "code",
   "execution_count": 3,
   "id": "3ca89d9d",
   "metadata": {},
   "outputs": [
    {
     "name": "stdout",
     "output_type": "stream",
     "text": [
      "   Gender   Age  Height  Weight family_history_with_overweight FAVC  FCVC  \\\n",
      "0  Female  21.0    1.62    64.0                            yes   no   2.0   \n",
      "1  Female  21.0    1.52    56.0                            yes   no   3.0   \n",
      "2    Male  23.0    1.80    77.0                            yes   no   2.0   \n",
      "3    Male  27.0    1.80    87.0                             no   no   3.0   \n",
      "4    Male  22.0    1.78    89.8                             no   no   2.0   \n",
      "\n",
      "   NCP       CAEC SMOKE  CH2O  SCC  FAF  TUE        CALC  \\\n",
      "0  3.0  Sometimes    no   2.0   no  0.0  1.0          no   \n",
      "1  3.0  Sometimes   yes   3.0  yes  3.0  0.0   Sometimes   \n",
      "2  3.0  Sometimes    no   2.0   no  2.0  1.0  Frequently   \n",
      "3  3.0  Sometimes    no   2.0   no  2.0  0.0  Frequently   \n",
      "4  1.0  Sometimes    no   2.0   no  0.0  0.0   Sometimes   \n",
      "\n",
      "                  MTRANS           NObeyesdad  \n",
      "0  Public_Transportation        Normal_Weight  \n",
      "1  Public_Transportation        Normal_Weight  \n",
      "2  Public_Transportation        Normal_Weight  \n",
      "3                Walking   Overweight_Level_I  \n",
      "4  Public_Transportation  Overweight_Level_II  \n"
     ]
    }
   ],
   "source": [
    "# Load the dataset\n",
    "dataset_url = 'https://raw.githubusercontent.com/zosia-r/msid/refs/heads/main/I/dataset.csv'\n",
    "data = pd.read_csv(dataset_url)\n",
    "\n",
    "# Display all columns and rows in the DataFrame\n",
    "pd.set_option('display.max_columns', None)\n",
    "pd.set_option('display.max_rows', None)\n",
    "\n",
    "print(data.head())"
   ]
  },
  {
   "cell_type": "markdown",
   "id": "4e02e4e3",
   "metadata": {},
   "source": [
    "## <span style=\"color:pink\">Linear Regression</span>\n"
   ]
  },
  {
   "cell_type": "markdown",
   "id": "e95c5b69",
   "metadata": {},
   "source": [
    "### <span style=\"color:pink\">Preprocessing</span>"
   ]
  },
  {
   "cell_type": "code",
   "execution_count": 4,
   "id": "30994e6e",
   "metadata": {},
   "outputs": [],
   "source": [
    "# Separate features and target\n",
    "X = data.drop('Weight', axis=1)\n",
    "Y = data['Weight']\n",
    "# This solution can be used only for numeric values,\n",
    "# so I chose Weight(float64) as ground truth vector"
   ]
  },
  {
   "cell_type": "code",
   "execution_count": 5,
   "id": "e1392b34",
   "metadata": {},
   "outputs": [],
   "source": [
    "def preprocess(X):\n",
    "    # Identify categorical and numerical columns\n",
    "    categorical_cols = X.select_dtypes(include=['object']).columns.tolist()\n",
    "    numerical_cols = X.select_dtypes(include=['int64', 'float64']).columns.tolist()\n",
    "\n",
    "    # Define the preprocessing steps for numerical and categorical features\n",
    "    numerical_transformer = Pipeline(steps=[\n",
    "        ('imputer', SimpleImputer(strategy='mean')),\n",
    "        ('scaler', StandardScaler())\n",
    "    ])\n",
    "\n",
    "    categorical_transformer = Pipeline(steps=[\n",
    "        ('imputer', SimpleImputer(strategy='most_frequent')),\n",
    "        ('onehot', OneHotEncoder(handle_unknown='ignore'))\n",
    "    ])\n",
    "\n",
    "    # Combine preprocessing steps\n",
    "    preprocessor = ColumnTransformer(\n",
    "        transformers=[\n",
    "            ('num', numerical_transformer, numerical_cols),\n",
    "            ('cat', categorical_transformer, categorical_cols)\n",
    "        ]\n",
    "    )\n",
    "\n",
    "    return preprocessor"
   ]
  },
  {
   "cell_type": "code",
   "execution_count": 6,
   "id": "0c1f5b8d",
   "metadata": {},
   "outputs": [],
   "source": [
    "# Split data into trainig and testing sets\n",
    "X_train, X_test, Y_train, Y_test = train_test_split(X, Y, random_state=0)"
   ]
  },
  {
   "cell_type": "markdown",
   "id": "f6dc0bff",
   "metadata": {},
   "source": [
    "### <span style=\"color:pink\">Closed-Form Solution</span>\n",
    "\n",
    "$$ \\theta = (X^TX)^{-1} X^T Y $$\n",
    "\n",
    "where:\n",
    "\n",
    "* $X$ = the matrix of input features\n",
    "* $Y$ = the vector of ground truth values\n",
    "* $\\theta$ = the vector of model coefficients\n",
    "\n"
   ]
  },
  {
   "cell_type": "code",
   "execution_count": 7,
   "id": "3c285d4b",
   "metadata": {},
   "outputs": [],
   "source": [
    "# Define the closed-form solution function\n",
    "def closed_form_solution(X, Y):\n",
    "    XT = np.transpose(X)\n",
    "    return np.linalg.inv(XT @ X) @ XT @ Y"
   ]
  },
  {
   "cell_type": "code",
   "execution_count": 8,
   "id": "90c09dab",
   "metadata": {},
   "outputs": [],
   "source": [
    "# Perform preprocessing on X\n",
    "preprocessor = preprocess(X)\n",
    "\n",
    "X_train = preprocessor.fit_transform(X_train)\n",
    "X_test = preprocessor.transform(X_test)"
   ]
  },
  {
   "cell_type": "code",
   "execution_count": 9,
   "id": "91e9e4fb",
   "metadata": {},
   "outputs": [],
   "source": [
    "# Add a bias term (intercept) to the transformed data\n",
    "X_train = np.hstack([np.ones((X_train.shape[0], 1)), X_train])\n",
    "X_test = np.hstack([np.ones((X_test.shape[0], 1)), X_test])"
   ]
  },
  {
   "cell_type": "code",
   "execution_count": 10,
   "id": "44165d83",
   "metadata": {},
   "outputs": [
    {
     "name": "stdout",
     "output_type": "stream",
     "text": [
      "Theta: [-6.98426098e+17 -1.68729101e+03 -1.19534426e+03  3.56167529e+03\n",
      "  8.45379382e+02 -6.57662699e+01 -5.47693524e+02  3.71683730e+02\n",
      "  2.03361377e+19  2.03361377e+19 -9.28032309e+18 -9.28032309e+18\n",
      " -1.03281403e+19 -1.03281403e+19  3.62204242e+18  3.62204242e+18\n",
      "  3.62204242e+18  3.62204242e+18  1.30366450e+17  1.30366450e+17\n",
      "  2.92565688e+17  2.92565688e+17  3.96446687e+18  3.96446687e+18\n",
      "  3.96446687e+18  3.96446687e+18 -8.03868969e+18 -8.03868969e+18\n",
      " -8.03868969e+18 -8.03868969e+18 -8.03868969e+18 -2.78683288e+02\n",
      "  8.57913014e+02  6.90601309e+03  3.06152736e+03  3.96740654e+03\n",
      "  4.42743358e+03  3.60014533e+03]\n"
     ]
    }
   ],
   "source": [
    "# Training the model using closed-form solution\n",
    "theta = closed_form_solution(X_train, Y_train)\n",
    "print(f'Theta: {theta}')"
   ]
  },
  {
   "cell_type": "code",
   "execution_count": 11,
   "id": "a363210c",
   "metadata": {},
   "outputs": [
    {
     "name": "stdout",
     "output_type": "stream",
     "text": [
      "Mean Squared Error: 24043817.897\n"
     ]
    }
   ],
   "source": [
    "# Evaluate the model\n",
    "Y_pred = X_test @ theta\n",
    "\n",
    "print(f'Mean Squared Error: {mean_squared_error(Y_test, Y_pred):.3f}')"
   ]
  },
  {
   "cell_type": "markdown",
   "id": "b82d0ced",
   "metadata": {},
   "source": [
    "### <span style=\"color:pink\">OGRANICZENIA ZAMKNIĘTEJ FORMUŁY</span>\n",
    "1. Duża złożoność obliczeniowa\n",
    "    * Odwracanie macierzy $X^TX$ ma złożoność obliczeniową $O(n^3)$, gdzie $n$ to liczba cech (kolumn).\n",
    "    * Dla dużych zbiorów danych i dla danych o wielu cechach staje się te bardzo kosztowne obliczeniowo.\n",
    "\n",
    "2. Wysokie zużycie pamięci\n",
    "    * Obliczanie i przechowywanie dużych macierzy wymaga ogromnych zasobów pamięci RAM.\n",
    "    * Dla dużych zbiorów danych może to prowadzić do przeciążenia pamięci\n",
    "\n",
    "3. Niestabilność numeryczna\n",
    "    * Jeśli macierz $X^TX$ jest bliska osobliwości (nieodwracalna) (np. gdy cechy są silnie skorelowane) - odwrócenie macierzy staje się bardzo niestabilne.\n",
    "    * Prowadzi to do błędnych wyników."
   ]
  },
  {
   "cell_type": "markdown",
   "id": "e3a77452",
   "metadata": {},
   "source": [
    "### <span style=\"color:pink\">Compare with sklearn's LinearRegression</span>"
   ]
  },
  {
   "cell_type": "code",
   "execution_count": 12,
   "id": "1066223e",
   "metadata": {},
   "outputs": [
    {
     "name": "stdout",
     "output_type": "stream",
     "text": [
      "Mean Squared Error: 24.829\n"
     ]
    }
   ],
   "source": [
    "# Compare with sklearn's LinearRegression\n",
    "from sklearn.linear_model import LinearRegression\n",
    "\n",
    "X_train, X_test, Y_train, Y_test = train_test_split(X, Y, random_state=0)\n",
    "\n",
    "model = Pipeline(steps=[\n",
    "    ('preprocessor', preprocessor),\n",
    "    ('regressor', LinearRegression())\n",
    "])\n",
    "\n",
    "model.fit(X_train, Y_train)\n",
    "\n",
    "Y_pred = model.predict(X_test)\n",
    "\n",
    "print(f'Mean Squared Error: {mean_squared_error(Y_test, Y_pred):.3f}')"
   ]
  }
 ],
 "metadata": {
  "kernelspec": {
   "display_name": "msid",
   "language": "python",
   "name": "python3"
  },
  "language_info": {
   "codemirror_mode": {
    "name": "ipython",
    "version": 3
   },
   "file_extension": ".py",
   "mimetype": "text/x-python",
   "name": "python",
   "nbconvert_exporter": "python",
   "pygments_lexer": "ipython3",
   "version": "3.13.2"
  }
 },
 "nbformat": 4,
 "nbformat_minor": 5
}
