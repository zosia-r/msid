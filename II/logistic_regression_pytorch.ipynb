{
 "cells": [
  {
   "cell_type": "markdown",
   "id": "8b977ca7",
   "metadata": {},
   "source": [
    "# <span style=\"color:pink\">Project part 2.5.5</span>\n",
    "\n",
    "<span style=\"color:pink\">**_Zofia Różańska, 280526_**</span>\n",
    "\n",
    "<span style=\"color:pink\">_Dataset: Estimation of Obesity Levels Based On Eating Habits and Physical Condition_</span>\n"
   ]
  },
  {
   "cell_type": "code",
   "execution_count": 69,
   "id": "a519437f",
   "metadata": {},
   "outputs": [],
   "source": [
    "import time\n",
    "import pandas as pd\n",
    "import numpy as np\n",
    "import matplotlib.pyplot as plt"
   ]
  },
  {
   "cell_type": "code",
   "execution_count": 70,
   "id": "1af71961",
   "metadata": {},
   "outputs": [],
   "source": [
    "from sklearn.pipeline import Pipeline\n",
    "from sklearn.impute import SimpleImputer\n",
    "from sklearn.preprocessing import StandardScaler, OneHotEncoder, LabelEncoder\n",
    "from sklearn.compose import ColumnTransformer\n",
    "from sklearn.model_selection import train_test_split\n",
    "from sklearn.metrics import accuracy_score, classification_report, ConfusionMatrixDisplay, confusion_matrix"
   ]
  },
  {
   "cell_type": "code",
   "execution_count": 71,
   "id": "0b5337c0",
   "metadata": {},
   "outputs": [],
   "source": [
    "import torch\n",
    "import torch.nn as nn\n",
    "from torch.utils.data import DataLoader, TensorDataset\n",
    "import torch.nn.functional as F"
   ]
  },
  {
   "cell_type": "code",
   "execution_count": 72,
   "id": "c24fe6cd",
   "metadata": {},
   "outputs": [
    {
     "name": "stdout",
     "output_type": "stream",
     "text": [
      "   Gender   Age  Height  Weight family_history_with_overweight FAVC  FCVC  \\\n",
      "0  Female  21.0    1.62    64.0                            yes   no   2.0   \n",
      "1  Female  21.0    1.52    56.0                            yes   no   3.0   \n",
      "2    Male  23.0    1.80    77.0                            yes   no   2.0   \n",
      "3    Male  27.0    1.80    87.0                             no   no   3.0   \n",
      "4    Male  22.0    1.78    89.8                             no   no   2.0   \n",
      "\n",
      "   NCP       CAEC SMOKE  CH2O  SCC  FAF  TUE        CALC  \\\n",
      "0  3.0  Sometimes    no   2.0   no  0.0  1.0          no   \n",
      "1  3.0  Sometimes   yes   3.0  yes  3.0  0.0   Sometimes   \n",
      "2  3.0  Sometimes    no   2.0   no  2.0  1.0  Frequently   \n",
      "3  3.0  Sometimes    no   2.0   no  2.0  0.0  Frequently   \n",
      "4  1.0  Sometimes    no   2.0   no  0.0  0.0   Sometimes   \n",
      "\n",
      "                  MTRANS           NObeyesdad  \n",
      "0  Public_Transportation        Normal_Weight  \n",
      "1  Public_Transportation        Normal_Weight  \n",
      "2  Public_Transportation        Normal_Weight  \n",
      "3                Walking   Overweight_Level_I  \n",
      "4  Public_Transportation  Overweight_Level_II  \n"
     ]
    }
   ],
   "source": [
    "# Load the dataset\n",
    "dataset_url = 'https://raw.githubusercontent.com/zosia-r/msid/refs/heads/main/I/dataset.csv'\n",
    "data = pd.read_csv(dataset_url)\n",
    "\n",
    "# Display all columns and rows in the DataFrame\n",
    "pd.set_option('display.max_columns', None)\n",
    "pd.set_option('display.max_rows', None)\n",
    "\n",
    "print(data.head())"
   ]
  },
  {
   "cell_type": "code",
   "execution_count": 73,
   "id": "bec410bf",
   "metadata": {},
   "outputs": [],
   "source": [
    "# Separate features and target\n",
    "X = data.drop('NObeyesdad', axis=1)\n",
    "y = data['NObeyesdad']"
   ]
  },
  {
   "cell_type": "code",
   "execution_count": 74,
   "id": "4593b411",
   "metadata": {},
   "outputs": [],
   "source": [
    "def preprocess(X):\n",
    "    # Identify categorical and numerical columns\n",
    "    categorical_cols = X.select_dtypes(include=['object']).columns.tolist()\n",
    "    numerical_cols = X.select_dtypes(include=['int64', 'float64']).columns.tolist()\n",
    "\n",
    "    # Define the preprocessing steps for numerical and categorical features\n",
    "    numerical_transformer = Pipeline(steps=[\n",
    "        ('imputer', SimpleImputer(strategy='mean')),\n",
    "        ('scaler', StandardScaler())\n",
    "    ])\n",
    "\n",
    "    categorical_transformer = Pipeline(steps=[\n",
    "        ('imputer', SimpleImputer(strategy='most_frequent')),\n",
    "        ('onehot', OneHotEncoder(handle_unknown='ignore'))\n",
    "    ])\n",
    "\n",
    "    # Combine preprocessing steps\n",
    "    preprocessor = ColumnTransformer(\n",
    "        transformers=[\n",
    "            ('num', numerical_transformer, numerical_cols),\n",
    "            ('cat', categorical_transformer, categorical_cols)\n",
    "        ]\n",
    "    )\n",
    "\n",
    "    return preprocessor"
   ]
  },
  {
   "cell_type": "code",
   "execution_count": 75,
   "id": "af19b760",
   "metadata": {},
   "outputs": [],
   "source": [
    "# Encode the target variable\n",
    "le = LabelEncoder()\n",
    "y_encoded = le.fit_transform(y)"
   ]
  },
  {
   "cell_type": "code",
   "execution_count": 76,
   "id": "185e115d",
   "metadata": {},
   "outputs": [],
   "source": [
    "# Split data into trainig, validating and testing sets\n",
    "X_train, X_temp, y_train, y_temp = train_test_split(X, y_encoded, test_size=0.4, random_state=0)\n",
    "X_val, X_test, y_val, y_test = train_test_split(X_temp, y_temp, test_size=0.5, random_state=0)"
   ]
  },
  {
   "cell_type": "code",
   "execution_count": 77,
   "id": "e24e032a",
   "metadata": {},
   "outputs": [],
   "source": [
    "# Perform preprocessing on X\n",
    "preprocessor = preprocess(X)\n",
    "\n",
    "X_train = preprocessor.fit_transform(X_train)\n",
    "X_val = preprocessor.transform(X_val)\n",
    "X_test = preprocessor.transform(X_test)"
   ]
  },
  {
   "cell_type": "code",
   "execution_count": 78,
   "id": "72b9e90a",
   "metadata": {},
   "outputs": [],
   "source": [
    "class LogisticRegression:\n",
    "    def __init__(self, input_dim, num_classes, lr=0.01):\n",
    "        self.model = nn.Sequential(\n",
    "            nn.Linear(input_dim, num_classes),\n",
    "            nn.Softmax(dim=1)\n",
    "        )\n",
    "        self.criterion = nn.CrossEntropyLoss()\n",
    "        self.lr = lr\n",
    "        \n",
    "    def log_loss(self, X, y):\n",
    "        logits = self.model[0](X)\n",
    "        loss = self.criterion(logits, y)\n",
    "        return loss.item()\n",
    "    \n",
    "    def evaluate(self, val_loader):\n",
    "        self.model.eval()\n",
    "        correct = 0\n",
    "        total = 0\n",
    "        with torch.no_grad():\n",
    "            for x, y in val_loader:\n",
    "                logits = self.model[0](x)\n",
    "                preds = logits.argmax(dim=1)\n",
    "                correct += (preds == y).sum().item()\n",
    "                total += y.size(0)\n",
    "        accuracy = 100. * correct / total\n",
    "        return accuracy\n",
    "\n",
    "    def train(self, train_loader, val_loader, epochs=5):\n",
    "        start_time = time.time()  # Start time for training\n",
    "            \n",
    "        for epoch in range(epochs):\n",
    "            self.model.train()\n",
    "            total_loss = 0.0\n",
    "            for x, y in train_loader:\n",
    "                logits = self.model[0](x)\n",
    "                loss = self.criterion(logits, y)\n",
    "                loss.backward()\n",
    "                self.model[0].weight.data -= self.lr * self.model[0].weight.grad.data  # Manually update weights\n",
    "                self.model[0].bias.data -= self.lr * self.model[0].bias.grad.data  # Manually update bias\n",
    "\n",
    "                self.model[0].weight.grad.data.zero_()  # Zero the gradients\n",
    "                self.model[0].bias.grad.data.zero_()  # Zero the gradients\n",
    "                total_loss += loss.item()\n",
    "\n",
    "            val_acc = self.evaluate(val_loader)\n",
    "            if (epoch + 1) % 100 == 0:\n",
    "                print(f\"Epoch {epoch + 1} | Current Loss: {loss.item():.4f} | Val Accuracy: {val_acc:.2f}%\")\n",
    "\n",
    "        end_time = time.time()\n",
    "        total_training_time = end_time - start_time  # Time in seconds\n",
    "\n",
    "        print(f\"\\nTraining completed in {total_training_time:.2f} seconds.\")\n",
    "\n",
    "    def save(self, path):\n",
    "        torch.save(self.model.state_dict(), path)\n",
    "\n",
    "    def load(self, path):\n",
    "        self.model.load_state_dict(torch.load(path))\n",
    "        self.model.eval()\n",
    "\n",
    "    def predict(self, x):\n",
    "        self.model.eval()\n",
    "        with torch.no_grad():\n",
    "            logits = self.model[0](x)\n",
    "            preds = logits.argmax(dim=1)\n",
    "        return preds\n"
   ]
  },
  {
   "cell_type": "code",
   "execution_count": 79,
   "id": "f927e9a8",
   "metadata": {},
   "outputs": [],
   "source": [
    "# Convert to tensors\n",
    "X_train_tensor = torch.tensor(X_train, dtype=torch.float32)\n",
    "y_train_tensor = torch.tensor(y_train, dtype=torch.long)\n",
    "X_val_tensor = torch.tensor(X_val, dtype=torch.float32)\n",
    "y_val_tensor = torch.tensor(y_val, dtype=torch.long)\n",
    "X_test_tensor = torch.tensor(X_test, dtype=torch.float32)\n",
    "y_test_tensor = torch.tensor(y_test, dtype=torch.long)"
   ]
  },
  {
   "cell_type": "code",
   "execution_count": 80,
   "id": "cc614f71",
   "metadata": {},
   "outputs": [
    {
     "name": "stdout",
     "output_type": "stream",
     "text": [
      "Using device: cpu\n"
     ]
    }
   ],
   "source": [
    "# Choose device\n",
    "device = torch.device('cuda' if torch.cuda.is_available() else 'cpu') # no cuda on my pc :(\n",
    "print(\"Using device:\", device)"
   ]
  },
  {
   "cell_type": "code",
   "execution_count": 81,
   "id": "711e6866",
   "metadata": {},
   "outputs": [],
   "source": [
    "# Create loaders\n",
    "batch_size = 32\n",
    "\n",
    "train_loader = DataLoader(TensorDataset(X_train_tensor, y_train_tensor), batch_size=batch_size, shuffle=True)\n",
    "val_loader = DataLoader(TensorDataset(X_val_tensor, y_val_tensor), batch_size=batch_size)\n",
    "test_loader = DataLoader(TensorDataset(X_test_tensor, y_test_tensor), batch_size=batch_size)"
   ]
  },
  {
   "cell_type": "code",
   "execution_count": 82,
   "id": "ad234abe",
   "metadata": {},
   "outputs": [
    {
     "name": "stdout",
     "output_type": "stream",
     "text": [
      "Epoch 100 | Current Loss: 0.9088 | Val Accuracy: 73.22%\n",
      "Epoch 200 | Current Loss: 0.6645 | Val Accuracy: 78.91%\n",
      "Epoch 300 | Current Loss: 0.3782 | Val Accuracy: 81.04%\n",
      "Epoch 400 | Current Loss: 0.5036 | Val Accuracy: 82.94%\n",
      "Epoch 500 | Current Loss: 0.3519 | Val Accuracy: 84.36%\n",
      "Epoch 600 | Current Loss: 0.3690 | Val Accuracy: 85.07%\n",
      "Epoch 700 | Current Loss: 0.5360 | Val Accuracy: 85.31%\n",
      "Epoch 800 | Current Loss: 0.6949 | Val Accuracy: 86.49%\n",
      "Epoch 900 | Current Loss: 0.3470 | Val Accuracy: 86.97%\n",
      "Epoch 1000 | Current Loss: 0.3199 | Val Accuracy: 87.20%\n",
      "\n",
      "Training completed in 39.49 seconds.\n"
     ]
    }
   ],
   "source": [
    "# Training the model\n",
    "input_dim = X_train.shape[1]\n",
    "num_classes = len(np.unique(y_encoded))\n",
    "\n",
    "model = LogisticRegression(input_dim, num_classes)\n",
    "model.train(train_loader, val_loader, epochs=1000)"
   ]
  },
  {
   "cell_type": "code",
   "execution_count": 83,
   "id": "db8f2d9b",
   "metadata": {},
   "outputs": [
    {
     "name": "stdout",
     "output_type": "stream",
     "text": [
      "Accuracy: 87.943%\n",
      "Cross-entropy loss: 0.4706\n",
      "Classification report:\n",
      "                      precision    recall  f1-score   support\n",
      "\n",
      "Insufficient_Weight       0.85      0.95      0.90        55\n",
      "      Normal_Weight       0.76      0.71      0.74        55\n",
      "     Obesity_Type_I       0.92      0.88      0.90        69\n",
      "    Obesity_Type_II       0.94      1.00      0.97        66\n",
      "   Obesity_Type_III       0.97      1.00      0.99        68\n",
      " Overweight_Level_I       0.80      0.82      0.81        55\n",
      "Overweight_Level_II       0.84      0.75      0.79        55\n",
      "\n",
      "           accuracy                           0.88       423\n",
      "          macro avg       0.87      0.87      0.87       423\n",
      "       weighted avg       0.88      0.88      0.88       423\n",
      "\n"
     ]
    },
    {
     "data": {
      "image/png": "[encoded data removed]",
      "text/plain": [
       "<Figure size 640x480 with 2 Axes>"
      ]
     },
     "metadata": {},
     "output_type": "display_data"
    }
   ],
   "source": [
    "# Evaluate the model\n",
    "y_pred = model.predict(X_test_tensor)\n",
    "\n",
    "print(f'Accuracy: {accuracy_score(y_test, y_pred)*100:.3f}%')\n",
    "print(f'Cross-entropy loss: {model.log_loss(X_test_tensor, y_test_tensor):.4f}')\n",
    "print('Classification report:\\n', classification_report(y_test, y_pred, target_names=le.classes_))\n",
    "\n",
    "# Confusion matrix\n",
    "cm = confusion_matrix(y_test, y_pred)\n",
    "disp = ConfusionMatrixDisplay(confusion_matrix=cm, display_labels=le.classes_)\n",
    "disp.plot(xticks_rotation=90, cmap=plt.cm.Purples)\n",
    "plt.title('Confusion Matrix - Logistic Regression in PyTorch')\n",
    "plt.show()"
   ]
  },
  {
   "cell_type": "code",
   "execution_count": 84,
   "id": "93a6ec59",
   "metadata": {},
   "outputs": [
    {
     "name": "stdout",
     "output_type": "stream",
     "text": [
      "Training Accuracy: 86.098%\n",
      "Training Cross-entropy loss: 0.4858\n"
     ]
    }
   ],
   "source": [
    "# Evaluate on training set\n",
    "y_train_pred = model.predict(X_train_tensor)\n",
    "\n",
    "print(f'Training Accuracy: {accuracy_score(y_train, y_train_pred)*100:.3f}%')\n",
    "print(f'Training Cross-entropy loss: {model.log_loss(X_train_tensor, y_train_tensor):.4f}')"
   ]
  },
  {
   "cell_type": "markdown",
   "id": "05b3a684",
   "metadata": {},
   "source": [
    "# <span style=\"color:pink\">Project part III</span>"
   ]
  },
  {
   "cell_type": "markdown",
   "id": "a1a3f581",
   "metadata": {},
   "source": [
    "## <span style=\"color:pink\">Cross validation</span>"
   ]
  },
  {
   "cell_type": "code",
   "execution_count": 85,
   "id": "27906d1e",
   "metadata": {},
   "outputs": [
    {
     "name": "stdout",
     "output_type": "stream",
     "text": [
      "Epoch 100 | Current Loss: 0.8208 | Val Accuracy: 60.90%\n",
      "Epoch 200 | Current Loss: 0.7709 | Val Accuracy: 65.40%\n",
      "Epoch 300 | Current Loss: 0.6844 | Val Accuracy: 68.25%\n",
      "Epoch 400 | Current Loss: 0.7108 | Val Accuracy: 69.43%\n",
      "Epoch 500 | Current Loss: 0.5261 | Val Accuracy: 70.38%\n",
      "Epoch 600 | Current Loss: 0.7951 | Val Accuracy: 71.09%\n",
      "Epoch 700 | Current Loss: 0.7523 | Val Accuracy: 72.04%\n",
      "Epoch 800 | Current Loss: 0.5723 | Val Accuracy: 72.51%\n",
      "Epoch 900 | Current Loss: 0.4310 | Val Accuracy: 72.75%\n",
      "Epoch 1000 | Current Loss: 0.6052 | Val Accuracy: 73.70%\n",
      "\n",
      "Training completed in 31.04 seconds.\n",
      "Fold 1 accuracy: 0.7370\n",
      "Epoch 100 | Current Loss: 0.9559 | Val Accuracy: 63.03%\n",
      "Epoch 200 | Current Loss: 0.7766 | Val Accuracy: 67.77%\n",
      "Epoch 300 | Current Loss: 0.9721 | Val Accuracy: 70.85%\n",
      "Epoch 400 | Current Loss: 0.8804 | Val Accuracy: 72.75%\n",
      "Epoch 500 | Current Loss: 0.5309 | Val Accuracy: 74.64%\n",
      "Epoch 600 | Current Loss: 0.9212 | Val Accuracy: 75.83%\n",
      "Epoch 700 | Current Loss: 0.7994 | Val Accuracy: 77.01%\n",
      "Epoch 800 | Current Loss: 0.7326 | Val Accuracy: 77.49%\n",
      "Epoch 900 | Current Loss: 0.6566 | Val Accuracy: 78.44%\n",
      "Epoch 1000 | Current Loss: 0.6091 | Val Accuracy: 79.86%\n",
      "\n",
      "Training completed in 29.15 seconds.\n",
      "Fold 2 accuracy: 0.7986\n",
      "Epoch 100 | Current Loss: 1.0098 | Val Accuracy: 63.03%\n",
      "Epoch 200 | Current Loss: 1.0169 | Val Accuracy: 67.77%\n",
      "Epoch 300 | Current Loss: 0.9605 | Val Accuracy: 69.19%\n",
      "Epoch 400 | Current Loss: 0.5030 | Val Accuracy: 70.85%\n",
      "Epoch 500 | Current Loss: 0.8220 | Val Accuracy: 71.80%\n",
      "Epoch 600 | Current Loss: 0.6449 | Val Accuracy: 73.70%\n",
      "Epoch 700 | Current Loss: 0.4989 | Val Accuracy: 73.93%\n",
      "Epoch 800 | Current Loss: 0.7079 | Val Accuracy: 75.36%\n",
      "Epoch 900 | Current Loss: 0.5448 | Val Accuracy: 75.83%\n",
      "Epoch 1000 | Current Loss: 0.3968 | Val Accuracy: 77.25%\n",
      "\n",
      "Training completed in 30.02 seconds.\n",
      "Fold 3 accuracy: 0.7725\n",
      "-----\n",
      "Mean accuracy (cross-val): 76.93522906793048 %\n"
     ]
    }
   ],
   "source": [
    "from sklearn.model_selection import StratifiedKFold\n",
    "\n",
    "kf = StratifiedKFold(n_splits=3, shuffle=True, random_state=42)\n",
    "accuracies = []\n",
    "\n",
    "# Prepare the data for K-Fold Cross-Validation\n",
    "X = preprocessor.transform(X)\n",
    "y_encoded = le.transform(y)\n",
    "\n",
    "for fold, (train_idx, val_idx) in enumerate(kf.split(X_train, y_train)):\n",
    "    # Split the data\n",
    "    X_train_fold = torch.tensor(X[train_idx], dtype=torch.float32)\n",
    "    y_train_fold = torch.tensor(y_encoded[train_idx], dtype=torch.long)\n",
    "    X_val_fold = torch.tensor(X[val_idx], dtype=torch.float32)\n",
    "    y_val_fold = torch.tensor(y_encoded[val_idx], dtype=torch.long)\n",
    "\n",
    "    # DataLoaders\n",
    "    train_dataset = TensorDataset(X_train_fold, y_train_fold)\n",
    "    val_dataset = TensorDataset(X_val_fold, y_val_fold)\n",
    "    train_loader = DataLoader(train_dataset, batch_size=32, shuffle=True)\n",
    "    val_loader = DataLoader(val_dataset, batch_size=32, shuffle=False)\n",
    "\n",
    "    # Train the model\n",
    "    clf_fold = LogisticRegression(input_dim=X.shape[1], num_classes=len(np.unique(y)), lr=0.01)\n",
    "    clf_fold.train(train_loader, val_loader, epochs=1000)\n",
    "\n",
    "    # Predict\n",
    "    y_val_pred = clf_fold.predict(X_val_fold).numpy()\n",
    "    acc = accuracy_score(y_encoded[val_idx], y_val_pred)\n",
    "    accuracies.append(acc)\n",
    "    print(f'Fold {fold + 1} accuracy: {acc * 100:.2f}%')\n",
    "\n",
    "# Mean accuracy\n",
    "print('-----')\n",
    "print('Mean accuracy (cross-val):', np.mean(accuracies)*100, '%')"
   ]
  }
 ],
 "metadata": {
  "kernelspec": {
   "display_name": "msid",
   "language": "python",
   "name": "python3"
  },
  "language_info": {
   "codemirror_mode": {
    "name": "ipython",
    "version": 3
   },
   "file_extension": ".py",
   "mimetype": "text/x-python",
   "name": "python",
   "nbconvert_exporter": "python",
   "pygments_lexer": "ipython3",
   "version": "3.13.2"
  }
 },
 "nbformat": 4,
 "nbformat_minor": 5
}
